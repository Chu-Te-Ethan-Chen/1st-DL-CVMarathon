{
 "cells": [
  {
   "cell_type": "markdown",
   "metadata": {},
   "source": [
    "## 『本次練習內容』\n",
    "#### 運用這幾天所學觀念搭建一個CNN分類器"
   ]
  },
  {
   "cell_type": "markdown",
   "metadata": {},
   "source": [
    "## 『本次練習目的』\n",
    "  #### 熟悉CNN分類器搭建步驟與原理\n",
    "  #### 學員們可以嘗試不同搭法，如使用不同的Maxpooling層，用GlobalAveragePooling取代Flatten等等"
   ]
  },
  {
   "cell_type": "code",
   "execution_count": 76,
   "metadata": {
    "scrolled": false
   },
   "outputs": [],
   "source": [
    "from keras.models import Sequential\n",
    "from keras.layers import Convolution2D\n",
    "from keras.layers import MaxPooling2D\n",
    "from keras.layers import Flatten\n",
    "from keras.layers import Dense\n",
    "from keras.layers import Dropout\n",
    "from keras.layers import BatchNormalization\n",
    "from keras.datasets import cifar10\n",
    "import numpy as np\n",
    "import tensorflow as tf\n",
    "from sklearn.preprocessing import OneHotEncoder\n",
    "import matplotlib.pyplot as plt\n"
   ]
  },
  {
   "cell_type": "code",
   "execution_count": 77,
   "metadata": {},
   "outputs": [
    {
     "name": "stdout",
     "output_type": "stream",
     "text": [
      "(50000, 32, 32, 3)\n"
     ]
    }
   ],
   "source": [
    "(x_train, y_train), (x_test, y_test) = cifar10.load_data()\n",
    "\n",
    "print(x_train.shape) #(50000, 32, 32, 3)\n",
    "\n",
    "## Normalize Data\n",
    "def normalize(X_train,X_test):\n",
    "        mean = np.mean(X_train,axis=(0,1,2,3))\n",
    "        std = np.std(X_train, axis=(0, 1, 2, 3))\n",
    "        X_train = (X_train-mean)/(std+1e-7)\n",
    "        X_test = (X_test-mean)/(std+1e-7) \n",
    "        return X_train, X_test,mean,std\n",
    "    \n",
    "    \n",
    "## Normalize Training and Testset    \n",
    "x_train, x_test,mean_train,std_train = normalize(x_train, x_test) "
   ]
  },
  {
   "cell_type": "code",
   "execution_count": 78,
   "metadata": {},
   "outputs": [
    {
     "name": "stderr",
     "output_type": "stream",
     "text": [
      "/Users/shandawun/opt/anaconda3/lib/python3.7/site-packages/sklearn/preprocessing/_encoders.py:415: FutureWarning: The handling of integer data will change in version 0.22. Currently, the categories are determined based on the range [0, max(values)], while in the future they will be determined based on the unique values.\n",
      "If you want the future behaviour and silence this warning, you can specify \"categories='auto'\".\n",
      "In case you used a LabelEncoder before this OneHotEncoder to convert the categories to integers, then you can now use the OneHotEncoder directly.\n",
      "  warnings.warn(msg, FutureWarning)\n"
     ]
    }
   ],
   "source": [
    "## OneHot Label 由(None, 1)-(None, 10)\n",
    "## ex. label=2,變成[0,0,1,0,0,0,0,0,0,0]\n",
    "one_hot=OneHotEncoder()\n",
    "y_train=one_hot.fit_transform(y_train).toarray()\n",
    "y_test=one_hot.transform(y_test).toarray()"
   ]
  },
  {
   "cell_type": "code",
   "execution_count": 79,
   "metadata": {
    "scrolled": false
   },
   "outputs": [
    {
     "name": "stderr",
     "output_type": "stream",
     "text": [
      "/Users/shandawun/opt/anaconda3/lib/python3.7/site-packages/ipykernel_launcher.py:29: UserWarning: Update your `Dense` call to the Keras 2 API: `Dense(activation=\"relu\", units=100)`\n",
      "/Users/shandawun/opt/anaconda3/lib/python3.7/site-packages/ipykernel_launcher.py:32: UserWarning: Update your `Dense` call to the Keras 2 API: `Dense(activation=\"softmax\", units=10)`\n"
     ]
    },
    {
     "name": "stdout",
     "output_type": "stream",
     "text": [
      "Epoch 1/50\n",
      "50000/50000 [==============================] - 30s 592us/step - loss: 1.3104 - accuracy: 0.5334\n",
      "Epoch 2/50\n",
      "50000/50000 [==============================] - 28s 565us/step - loss: 0.9225 - accuracy: 0.6744\n",
      "Epoch 3/50\n",
      "50000/50000 [==============================] - 28s 567us/step - loss: 0.7680 - accuracy: 0.7298\n",
      "Epoch 4/50\n",
      "50000/50000 [==============================] - 28s 570us/step - loss: 0.6494 - accuracy: 0.7710\n",
      "Epoch 5/50\n",
      "50000/50000 [==============================] - 29s 573us/step - loss: 0.5395 - accuracy: 0.8119\n",
      "Epoch 6/50\n",
      "50000/50000 [==============================] - 29s 572us/step - loss: 0.4402 - accuracy: 0.8451\n",
      "Epoch 7/50\n",
      "50000/50000 [==============================] - 29s 576us/step - loss: 0.3559 - accuracy: 0.8777\n",
      "Epoch 8/50\n",
      "50000/50000 [==============================] - 29s 575us/step - loss: 0.2764 - accuracy: 0.9044\n",
      "Epoch 9/50\n",
      "50000/50000 [==============================] - 29s 574us/step - loss: 0.2159 - accuracy: 0.9248\n",
      "Epoch 10/50\n",
      "50000/50000 [==============================] - 29s 573us/step - loss: 0.1720 - accuracy: 0.9402\n",
      "Epoch 11/50\n",
      "50000/50000 [==============================] - 29s 577us/step - loss: 0.1343 - accuracy: 0.9538\n",
      "Epoch 12/50\n",
      "50000/50000 [==============================] - 29s 581us/step - loss: 0.1144 - accuracy: 0.9607\n",
      "Epoch 13/50\n",
      "50000/50000 [==============================] - 29s 580us/step - loss: 0.1100 - accuracy: 0.9621\n",
      "Epoch 14/50\n",
      "50000/50000 [==============================] - 29s 583us/step - loss: 0.0974 - accuracy: 0.9659\n",
      "Epoch 15/50\n",
      "50000/50000 [==============================] - 29s 582us/step - loss: 0.0984 - accuracy: 0.9647\n",
      "Epoch 16/50\n",
      "50000/50000 [==============================] - 29s 580us/step - loss: 0.0758 - accuracy: 0.9736\n",
      "Epoch 17/50\n",
      "50000/50000 [==============================] - 29s 582us/step - loss: 0.0641 - accuracy: 0.9784\n",
      "Epoch 18/50\n",
      "50000/50000 [==============================] - 29s 583us/step - loss: 0.0646 - accuracy: 0.9769\n",
      "Epoch 19/50\n",
      "50000/50000 [==============================] - 29s 585us/step - loss: 0.0878 - accuracy: 0.9688\n",
      "Epoch 20/50\n",
      "50000/50000 [==============================] - 29s 583us/step - loss: 0.0658 - accuracy: 0.9768\n",
      "Epoch 21/50\n",
      "50000/50000 [==============================] - 29s 584us/step - loss: 0.0595 - accuracy: 0.9792\n",
      "Epoch 22/50\n",
      "50000/50000 [==============================] - 29s 583us/step - loss: 0.0517 - accuracy: 0.9822\n",
      "Epoch 23/50\n",
      "50000/50000 [==============================] - 29s 586us/step - loss: 0.0625 - accuracy: 0.9784\n",
      "Epoch 24/50\n",
      "50000/50000 [==============================] - 29s 587us/step - loss: 0.0614 - accuracy: 0.9794\n",
      "Epoch 25/50\n",
      "50000/50000 [==============================] - 29s 585us/step - loss: 0.0473 - accuracy: 0.9836\n",
      "Epoch 26/50\n",
      "50000/50000 [==============================] - 29s 584us/step - loss: 0.0588 - accuracy: 0.9791\n",
      "Epoch 27/50\n",
      "50000/50000 [==============================] - 29s 585us/step - loss: 0.0476 - accuracy: 0.9836\n",
      "Epoch 28/50\n",
      "50000/50000 [==============================] - 29s 589us/step - loss: 0.0460 - accuracy: 0.9839\n",
      "Epoch 29/50\n",
      "50000/50000 [==============================] - 29s 589us/step - loss: 0.0514 - accuracy: 0.9817\n",
      "Epoch 30/50\n",
      "50000/50000 [==============================] - 29s 587us/step - loss: 0.0430 - accuracy: 0.9849\n",
      "Epoch 31/50\n",
      "50000/50000 [==============================] - 29s 588us/step - loss: 0.0439 - accuracy: 0.9844\n",
      "Epoch 32/50\n",
      "50000/50000 [==============================] - 29s 589us/step - loss: 0.0322 - accuracy: 0.9887\n",
      "Epoch 33/50\n",
      "50000/50000 [==============================] - 30s 591us/step - loss: 0.0458 - accuracy: 0.9839\n",
      "Epoch 34/50\n",
      "50000/50000 [==============================] - 30s 590us/step - loss: 0.0598 - accuracy: 0.9795\n",
      "Epoch 35/50\n",
      "50000/50000 [==============================] - 29s 583us/step - loss: 0.0375 - accuracy: 0.9868\n",
      "Epoch 36/50\n",
      "50000/50000 [==============================] - 29s 587us/step - loss: 0.0338 - accuracy: 0.9890\n",
      "Epoch 37/50\n",
      "50000/50000 [==============================] - 30s 601us/step - loss: 0.0392 - accuracy: 0.9863\n",
      "Epoch 38/50\n",
      "50000/50000 [==============================] - 29s 582us/step - loss: 0.0470 - accuracy: 0.9844\n",
      "Epoch 39/50\n",
      "50000/50000 [==============================] - 30s 603us/step - loss: 0.0401 - accuracy: 0.9864\n",
      "Epoch 40/50\n",
      "50000/50000 [==============================] - 30s 608us/step - loss: 0.0393 - accuracy: 0.9873\n",
      "Epoch 41/50\n",
      "50000/50000 [==============================] - 29s 585us/step - loss: 0.0298 - accuracy: 0.9897\n",
      "Epoch 42/50\n",
      "50000/50000 [==============================] - 30s 600us/step - loss: 0.0405 - accuracy: 0.9862\n",
      "Epoch 43/50\n",
      "50000/50000 [==============================] - 30s 593us/step - loss: 0.0376 - accuracy: 0.9872\n",
      "Epoch 44/50\n",
      "50000/50000 [==============================] - 30s 594us/step - loss: 0.0298 - accuracy: 0.9904\n",
      "Epoch 45/50\n",
      "50000/50000 [==============================] - 30s 602us/step - loss: 0.0317 - accuracy: 0.9891\n",
      "Epoch 46/50\n",
      "50000/50000 [==============================] - 30s 597us/step - loss: 0.0360 - accuracy: 0.9882\n",
      "Epoch 47/50\n",
      "50000/50000 [==============================] - 29s 577us/step - loss: 0.0282 - accuracy: 0.9905\n",
      "Epoch 48/50\n",
      "50000/50000 [==============================] - 29s 572us/step - loss: 0.0417 - accuracy: 0.9860\n",
      "Epoch 49/50\n",
      "50000/50000 [==============================] - 29s 587us/step - loss: 0.0306 - accuracy: 0.9900\n",
      "Epoch 50/50\n",
      "50000/50000 [==============================] - 30s 595us/step - loss: 0.0326 - accuracy: 0.9891\n",
      "Model: \"sequential_17\"\n",
      "_________________________________________________________________\n",
      "Layer (type)                 Output Shape              Param #   \n",
      "=================================================================\n",
      "conv2d_33 (Conv2D)           (None, 32, 32, 16)        448       \n",
      "_________________________________________________________________\n",
      "batch_normalization_31 (Batc (None, 32, 32, 16)        64        \n",
      "_________________________________________________________________\n",
      "max_pooling2d_31 (MaxPooling (None, 16, 16, 16)        0         \n",
      "_________________________________________________________________\n",
      "conv2d_34 (Conv2D)           (None, 16, 16, 32)        4640      \n",
      "_________________________________________________________________\n",
      "batch_normalization_32 (Batc (None, 16, 16, 32)        128       \n",
      "_________________________________________________________________\n",
      "max_pooling2d_32 (MaxPooling (None, 8, 8, 32)          0         \n",
      "_________________________________________________________________\n",
      "flatten_17 (Flatten)         (None, 2048)              0         \n",
      "_________________________________________________________________\n",
      "dense_33 (Dense)             (None, 100)               204900    \n",
      "_________________________________________________________________\n",
      "dense_34 (Dense)             (None, 10)                1010      \n",
      "=================================================================\n",
      "Total params: 211,190\n",
      "Trainable params: 211,094\n",
      "Non-trainable params: 96\n",
      "_________________________________________________________________\n"
     ]
    },
    {
     "data": {
      "image/png": "[encoded data removed]",
      "text/plain": [
       "<Figure size 432x288 with 1 Axes>"
      ]
     },
     "metadata": {
      "needs_background": "light"
     },
     "output_type": "display_data"
    },
    {
     "data": {
      "image/png": "[encoded data removed]",
      "text/plain": [
       "<Figure size 432x288 with 1 Axes>"
      ]
     },
     "metadata": {
      "needs_background": "light"
     },
     "output_type": "display_data"
    }
   ],
   "source": [
    "classifier=Sequential()\n",
    "\n",
    "#卷積組合\n",
    "classifier.add(Convolution2D(\n",
    "    filters=16, \n",
    "    kernel_size=(3,3), \n",
    "    padding='same', \n",
    "    input_shape=(32,32,3), \n",
    "    activation='relu')\n",
    ")\n",
    "classifier.add(BatchNormalization())\n",
    "classifier.add(MaxPooling2D(pool_size=(2,2)))\n",
    "#32,3,3,input_shape=(32,32,3),activation='relu''\n",
    "\n",
    "#卷積組合\n",
    "classifier.add(Convolution2D(\n",
    "    filters=32, \n",
    "    kernel_size=(3,3), \n",
    "    padding='same',  \n",
    "    activation='relu')\n",
    ")\n",
    "classifier.add(BatchNormalization())\n",
    "classifier.add(MaxPooling2D(pool_size=(2,2)))\n",
    "\n",
    "#flatten\n",
    "classifier.add(Flatten())\n",
    "\n",
    "#FC\n",
    "classifier.add(Dense(output_dim=100,activation='relu')) #output_dim=100,activation=relu'自己設計FC層參數'\n",
    "\n",
    "#輸出\n",
    "classifier.add(Dense(output_dim=10,activation='softmax'))#輸出函數應該用什麼？\n",
    "\n",
    "#超過兩個就要選categorical_crossentrophy\n",
    "classifier.compile(optimizer = 'adam', loss = 'categorical_crossentropy', metrics = ['accuracy'])\n",
    "train_history = classifier.fit(x_train,y_train,batch_size=100,epochs=50)\n",
    "classifier.summary()\n",
    "\n",
    "def show_train_history(train_history, train):\n",
    "    plt.plot(train_history.history[train])\n",
    "    plt.title('Train History')\n",
    "    plt.ylabel('train')\n",
    "    plt.xlabel('Epoch')\n",
    "    plt.legend(['train'], loc='center right')\n",
    "    plt.show()\n",
    "               \n",
    "show_train_history(train_history, 'accuracy')\n",
    "show_train_history(train_history, 'loss')\n"
   ]
  },
  {
   "cell_type": "markdown",
   "metadata": {},
   "source": [
    "## 預測新圖片，輸入影像前處理要與訓練時相同\n",
    "#### ((X-mean)/(std+1e-7) ):這裡的mean跟std是訓練集的\n",
    "## 維度如下方示範"
   ]
  },
  {
   "cell_type": "code",
   "execution_count": 80,
   "metadata": {
    "scrolled": false
   },
   "outputs": [
    {
     "name": "stdout",
     "output_type": "stream",
     "text": [
      "10000/10000 [==============================] - 2s 249us/step\n"
     ]
    },
    {
     "data": {
      "text/plain": [
       "0.6753000020980835"
      ]
     },
     "execution_count": 80,
     "metadata": {},
     "output_type": "execute_result"
    }
   ],
   "source": [
    "input_example=(np.zeros(shape=(1,32,32,3))-mean_train)/(std_train+1e-7) \n",
    "y_pred = classifier.predict(input_example)\n",
    "scores = classifier.evaluate(x_test, y_test)\n",
    "scores[1]"
   ]
  },
  {
   "cell_type": "code",
   "execution_count": null,
   "metadata": {},
   "outputs": [],
   "source": []
  }
 ],
 "metadata": {
  "kernelspec": {
   "display_name": "Python 3",
   "language": "python",
   "name": "python3"
  },
  "language_info": {
   "codemirror_mode": {
    "name": "ipython",
    "version": 3
   },
   "file_extension": ".py",
   "mimetype": "text/x-python",
   "name": "python",
   "nbconvert_exporter": "python",
   "pygments_lexer": "ipython3",
   "version": "3.7.4"
  }
 },
 "nbformat": 4,
 "nbformat_minor": 2
}
